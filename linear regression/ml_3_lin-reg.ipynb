{
 "cells": [
  {
   "cell_type": "code",
   "execution_count": 30,
   "metadata": {
    "scrolled": true
   },
   "outputs": [
    {
     "name": "stdout",
     "output_type": "stream",
     "text": [
      "0.4 2.4\n"
     ]
    }
   ],
   "source": [
    "import pandas as pd\n",
    "import numpy as np\n",
    "import matplotlib.pyplot as plt\n",
    "import os\n",
    "#pd.read_csv(\"linreg.csv\")\n",
    "x = np.array([1,2,3,4,5])\n",
    "y = np.array([3,4,2,4,5])\n",
    "mean_x = np.mean(x)\n",
    "mean_y = np.mean(y)\n",
    "# Total number of values\n",
    "n = len(x)\n",
    " \n",
    "# Using the formula to calculate m and c\n",
    "numer = 0\n",
    "denom = 0\n",
    "for i in range(n):\n",
    "    numer += (x[i] - mean_x) * (y[i] - mean_y)\n",
    "    denom += (x[i] - mean_x) ** 2\n",
    "    m = numer / denom\n",
    "    c = mean_y - (m * mean_x)\n",
    " \n",
    "# Print coefficients\n",
    "print(m, c)"
   ]
  },
  {
   "cell_type": "code",
   "execution_count": null,
   "metadata": {},
   "outputs": [],
   "source": []
  },
  {
   "cell_type": "code",
   "execution_count": null,
   "metadata": {},
   "outputs": [],
   "source": []
  },
  {
   "cell_type": "code",
   "execution_count": null,
   "metadata": {},
   "outputs": [],
   "source": []
  }
 ],
 "metadata": {
  "kernelspec": {
   "display_name": "Python 3",
   "language": "python",
   "name": "python3"
  },
  "language_info": {
   "codemirror_mode": {
    "name": "ipython",
    "version": 3
   },
   "file_extension": ".py",
   "mimetype": "text/x-python",
   "name": "python",
   "nbconvert_exporter": "python",
   "pygments_lexer": "ipython3",
   "version": "3.7.4"
  }
 },
 "nbformat": 4,
 "nbformat_minor": 2
}
